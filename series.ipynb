{
 "cells": [
  {
   "cell_type": "code",
   "execution_count": 1,
   "id": "5dcf9632",
   "metadata": {},
   "outputs": [],
   "source": [
    "import pandas as pd\n",
    "import numpy as np"
   ]
  },
  {
   "cell_type": "code",
   "execution_count": 6,
   "id": "eacb9141",
   "metadata": {},
   "outputs": [
    {
     "name": "stdout",
     "output_type": "stream",
     "text": [
      "0        Inda\n",
      "1    Pakistan\n",
      "2       Nepal\n",
      "3      Bhutan\n",
      "dtype: object\n"
     ]
    }
   ],
   "source": [
    "country = ['Inda', 'Pakistan', 'Nepal', 'Bhutan']\n",
    "series = pd.Series(country)\n",
    "print(series)\n"
   ]
  },
  {
   "cell_type": "code",
   "execution_count": 25,
   "id": "614edbf4",
   "metadata": {},
   "outputs": [
    {
     "name": "stdout",
     "output_type": "stream",
     "text": [
      "0       91\n",
      "1       62\n",
      "2       67\n",
      "3        3\n",
      "4       22\n",
      "        ..\n",
      "9995    62\n",
      "9996    89\n",
      "9997    82\n",
      "9998    49\n",
      "9999    90\n",
      "Length: 10000, dtype: int64\n",
      "0.021898984909057617\n"
     ]
    }
   ],
   "source": [
    "import time\n",
    "import random\n",
    "start = time.time()\n",
    "random_things = list(random.randint(1, 100) for i in range(10000))\n",
    "series = pd.Series(random_things)\n",
    "print(series)\n",
    "print(time.time() - start)"
   ]
  },
  {
   "cell_type": "code",
   "execution_count": 24,
   "id": "cea16529",
   "metadata": {},
   "outputs": [
    {
     "name": "stdout",
     "output_type": "stream",
     "text": [
      "0       78\n",
      "1       96\n",
      "2       11\n",
      "3       32\n",
      "4       25\n",
      "        ..\n",
      "9995    53\n",
      "9996    62\n",
      "9997    39\n",
      "9998    78\n",
      "9999    63\n",
      "Length: 10000, dtype: int32\n",
      "0.0025370121002197266\n"
     ]
    }
   ],
   "source": [
    "import time\n",
    "start = time.time()\n",
    "random_things = np.random.randint(1,100,10000)\n",
    "series = pd.Series(random_things)\n",
    "print(series)\n",
    "print(time.time() - start)"
   ]
  },
  {
   "cell_type": "code",
   "execution_count": 60,
   "id": "8bde7ac7",
   "metadata": {},
   "outputs": [],
   "source": [
    "runs = np.array([12,24,23,32,78], dtype=np.uint8)\n",
    "runs_series = pd.Series(runs)"
   ]
  },
  {
   "cell_type": "code",
   "execution_count": 34,
   "id": "efeccdfc",
   "metadata": {},
   "outputs": [
    {
     "data": {
      "text/plain": [
       "maths       76\n",
       "english     54\n",
       "science     89\n",
       "hindi       28\n",
       "sanskrit    92\n",
       "dtype: int64"
      ]
     },
     "execution_count": 34,
     "metadata": {},
     "output_type": "execute_result"
    }
   ],
   "source": [
    "marks = [76,54,89,28,92]\n",
    "subjects = ['maths', 'english', 'science', 'hindi', 'sanskrit']\n",
    "\n",
    "pd.Series(marks,index=subjects)"
   ]
  },
  {
   "cell_type": "code",
   "execution_count": 38,
   "id": "0ff5f530",
   "metadata": {},
   "outputs": [
    {
     "name": "stdout",
     "output_type": "stream",
     "text": [
      "maths       76\n",
      "english     54\n",
      "science     89\n",
      "hindi       28\n",
      "sanskrit    92\n",
      "Name: Nitish ke marks, dtype: int64\n"
     ]
    }
   ],
   "source": [
    "# setting up a name\n",
    "marks = pd.Series(marks, index=subjects, name='Nitish ke marks')\n",
    "print(marks)"
   ]
  },
  {
   "cell_type": "code",
   "execution_count": 46,
   "id": "b0e727b5",
   "metadata": {},
   "outputs": [
    {
     "name": "stdout",
     "output_type": "stream",
     "text": [
      "marks       76\n",
      "english     54\n",
      "science     89\n",
      "hindi       28\n",
      "sanskrit    92\n",
      "Name: Nitish ke marks, dtype: int64\n"
     ]
    }
   ],
   "source": [
    "marks = {\n",
    "  'marks': 76,\n",
    "  'english': 54,\n",
    "  'science': 89,\n",
    "  'hindi': 28,\n",
    "  'sanskrit': 92\n",
    "}\n",
    "\n",
    "marks_series = pd.Series(marks, name='Nitish ke marks')\n",
    "print(marks_series)"
   ]
  },
  {
   "cell_type": "code",
   "execution_count": 51,
   "id": "01e4e416",
   "metadata": {},
   "outputs": [
    {
     "name": "stdout",
     "output_type": "stream",
     "text": [
      "int64\n",
      "Nitish ke marks\n"
     ]
    }
   ],
   "source": [
    "# accessing atttributes\n",
    "print(marks_series.dtype)\n",
    "print(marks_series.name)"
   ]
  },
  {
   "cell_type": "code",
   "execution_count": 58,
   "id": "27d796fb",
   "metadata": {},
   "outputs": [
    {
     "name": "stdout",
     "output_type": "stream",
     "text": [
      "True\n",
      "False\n"
     ]
    }
   ],
   "source": [
    "# is_unique\n",
    "print(marks_series.is_unique)\n",
    "\n",
    "print(pd.Series(np.array([1,1,2,3,4,5])).is_unique)"
   ]
  },
  {
   "cell_type": "code",
   "execution_count": 63,
   "id": "dba69c54",
   "metadata": {},
   "outputs": [
    {
     "name": "stdout",
     "output_type": "stream",
     "text": [
      "Index(['marks', 'english', 'science', 'hindi', 'sanskrit'], dtype='object')\n"
     ]
    }
   ],
   "source": [
    "# Index\n",
    "print(marks_series.index)"
   ]
  },
  {
   "cell_type": "code",
   "execution_count": 66,
   "id": "1453034b",
   "metadata": {},
   "outputs": [
    {
     "name": "stdout",
     "output_type": "stream",
     "text": [
      "RangeIndex(start=0, stop=5, step=1)\n",
      "<class 'pandas.core.indexes.range.RangeIndex'>\n"
     ]
    }
   ],
   "source": [
    "print(runs_series.index)\n",
    "print(type(runs_series.index))"
   ]
  },
  {
   "cell_type": "code",
   "execution_count": 69,
   "id": "63753856",
   "metadata": {},
   "outputs": [
    {
     "name": "stdout",
     "output_type": "stream",
     "text": [
      "[76 54 89 28 92]\n",
      "<class 'numpy.ndarray'>\n"
     ]
    }
   ],
   "source": [
    "# Values\n",
    "print(marks_series.values)\n",
    "print(type(marks_series.values))"
   ]
  },
  {
   "cell_type": "code",
   "execution_count": null,
   "id": "2737f0f7",
   "metadata": {},
   "outputs": [],
   "source": [
    "# Creating a series using real world data set\n"
   ]
  },
  {
   "cell_type": "code",
   "execution_count": null,
   "id": "5b3ac927",
   "metadata": {},
   "outputs": [],
   "source": []
  },
  {
   "cell_type": "code",
   "execution_count": null,
   "metadata": {},
   "outputs": [],
   "source": []
  },
  {
   "cell_type": "code",
   "execution_count": null,
   "id": "6b902807",
   "metadata": {},
   "outputs": [],
   "source": []
  },
  {
   "cell_type": "code",
   "execution_count": null,
   "id": "b6b22a54",
   "metadata": {},
   "outputs": [],
   "source": []
  },
  {
   "cell_type": "code",
   "execution_count": null,
   "id": "c1d960bf",
   "metadata": {},
   "outputs": [],
   "source": []
  },
  {
   "cell_type": "code",
   "execution_count": null,
   "id": "3324b95a",
   "metadata": {},
   "outputs": [],
   "source": []
  }
 ],
 "metadata": {
  "kernelspec": {
   "display_name": "Python 3",
   "language": "python",
   "name": "python3"
  },
  "language_info": {
   "codemirror_mode": {
    "name": "ipython",
    "version": 3
   },
   "file_extension": ".py",
   "mimetype": "text/x-python",
   "name": "python",
   "nbconvert_exporter": "python",
   "pygments_lexer": "ipython3",
   "version": "3.12.6"
  }
 },
 "nbformat": 4,
 "nbformat_minor": 5
}
