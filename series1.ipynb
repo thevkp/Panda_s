{
 "cells": [
  {
   "cell_type": "markdown",
   "id": "bc8b8e77",
   "metadata": {},
   "source": [
    "# Pandas Series Overview\n",
    "\n",
    "A **Pandas Series** is a one-dimensional labeled array capable of holding data of any type (integer, string, float, Python objects, etc.). It is similar to a column in a table but can also be considered a specialized dictionary where the **index** acts as the keys and the **data** as values.\n",
    "\n",
    "## Key Features of a Series\n",
    "\n",
    "### 1. **Labeled Index**\n",
    "Each element in a Series is associated with an index. By default, the index is an integer starting from `0`, but you can customize it.\n",
    "\n",
    "### 2. **Homogeneous Data**\n",
    "While a Series can hold any data type, all elements in a single Series must be of the same type.\n",
    "\n",
    "### 3. **Flexible Operations**\n",
    "You can perform vectorized operations on a Series, similar to NumPy arrays.\n",
    "\n",
    "### 4. **Missing Data Support**\n",
    "A Series can handle missing or `NaN` values gracefully.\n"
   ]
  },
  {
   "cell_type": "code",
   "execution_count": 47,
   "id": "cfa8c90b",
   "metadata": {},
   "outputs": [],
   "source": [
    "import numpy as np\n",
    "import pandas as pd"
   ]
  },
  {
   "cell_type": "code",
   "execution_count": 48,
   "id": "96b49ef8",
   "metadata": {},
   "outputs": [
    {
     "name": "stdout",
     "output_type": "stream",
     "text": [
      "0       India\n",
      "1       Nepal\n",
      "2    Srilanka\n",
      "3      Bhutan\n",
      "dtype: object\n"
     ]
    }
   ],
   "source": [
    "data = np.array(['India', 'Nepal', 'Srilanka', 'Bhutan'])\n",
    "\n",
    "s = pd.Series(data)\n",
    "print(s)"
   ]
  },
  {
   "cell_type": "code",
   "execution_count": 49,
   "id": "93836b8f",
   "metadata": {},
   "outputs": [
    {
     "name": "stdout",
     "output_type": "stream",
     "text": [
      "0    12\n",
      "1    34\n",
      "2    43\n",
      "3    58\n",
      "4    79\n",
      "5    85\n",
      "dtype: int64\n"
     ]
    }
   ],
   "source": [
    "runs = np.array([12,34,43,58,79,85])\n",
    "\n",
    "runs_series = pd.Series(runs)\n",
    "print(runs_series)"
   ]
  },
  {
   "cell_type": "markdown",
   "id": "cc67cdc7",
   "metadata": {},
   "source": [
    "## Custom Labeling/Indexing ##\n",
    "**Syntax: pd.Series(data, index=value)**"
   ]
  },
  {
   "cell_type": "code",
   "execution_count": 50,
   "id": "2774ecc6",
   "metadata": {},
   "outputs": [
    {
     "name": "stdout",
     "output_type": "stream",
     "text": [
      "0     67\n",
      "1     57\n",
      "2     89\n",
      "3    100\n",
      "dtype: int64\n",
      "\n",
      "maths       67\n",
      "english     57\n",
      "science     89\n",
      "hindi      100\n",
      "Name: nitish ke marks, dtype: int64\n"
     ]
    }
   ],
   "source": [
    "marks= np.array([67, 57, 89, 100])\n",
    "subjects = np.array(['maths', 'english', 'science', 'hindi'])\n",
    "\n",
    "\n",
    "print(pd.Series(marks), end='\\n\\n')\n",
    "\n",
    "# Marks with custom subjects\n",
    "marksheet = pd.Series(marks, index=subjects, name='nitish ke marks')\n",
    "print(marksheet)"
   ]
  },
  {
   "cell_type": "markdown",
   "id": "55abcdbf",
   "metadata": {},
   "source": [
    "## Series from dict ##"
   ]
  },
  {
   "cell_type": "code",
   "execution_count": 51,
   "id": "d9be14d4",
   "metadata": {},
   "outputs": [
    {
     "name": "stdout",
     "output_type": "stream",
     "text": [
      "maths        67\n",
      "english      57\n",
      "science      89\n",
      "hindi      1000\n",
      "Name: nitish ke marks, dtype: int64\n"
     ]
    }
   ],
   "source": [
    "marks = {\n",
    "  'maths':67,\n",
    "  'english':57,\n",
    "  'science':89,\n",
    "  'hindi':1000\n",
    "}\n",
    "\n",
    "marksheet = pd.Series(marks, name = 'nitish ke marks')\n",
    "print(marksheet)"
   ]
  },
  {
   "cell_type": "markdown",
   "id": "756bb3cf",
   "metadata": {},
   "source": [
    "## Attributes of Series object ##"
   ]
  },
  {
   "cell_type": "code",
   "execution_count": 52,
   "id": "888148a0",
   "metadata": {},
   "outputs": [
    {
     "name": "stdout",
     "output_type": "stream",
     "text": [
      "4\n"
     ]
    }
   ],
   "source": [
    "# Size: number of elements in Series object\n",
    "print(marksheet.size)"
   ]
  },
  {
   "cell_type": "code",
   "execution_count": 54,
   "id": "f34fc32e",
   "metadata": {},
   "outputs": [
    {
     "name": "stdout",
     "output_type": "stream",
     "text": [
      "int64\n",
      "int64\n"
     ]
    }
   ],
   "source": [
    "# dtype: returns the data type of elements in a Series\n",
    "print(runs_series.dtype)\n",
    "print(marksheet.dtype)"
   ]
  },
  {
   "cell_type": "code",
   "execution_count": null,
   "id": "b769d3d7",
   "metadata": {},
   "outputs": [
    {
     "name": "stdout",
     "output_type": "stream",
     "text": [
      "True\n",
      "True\n"
     ]
    }
   ],
   "source": [
    "# is_unique: True if all elements are distinct or unique\n",
    "print(marksheet.is_unique)\n",
    "print(runs_series.is_unique)"
   ]
  },
  {
   "cell_type": "code",
   "execution_count": null,
   "id": "76f29abd",
   "metadata": {},
   "outputs": [
    {
     "name": "stdout",
     "output_type": "stream",
     "text": [
      "Index(['maths', 'english', 'science', 'hindi'], dtype='object')\n"
     ]
    }
   ],
   "source": [
    "#index: return all the index in the object\n",
    "print(marksheet.index)"
   ]
  },
  {
   "cell_type": "code",
   "execution_count": null,
   "id": "a5bba588",
   "metadata": {},
   "outputs": [
    {
     "name": "stdout",
     "output_type": "stream",
     "text": [
      "[ 67  57  89 100]\n"
     ]
    }
   ],
   "source": [
    "#values: return all the values in the series object\n",
    "print(marksheet.values)"
   ]
  },
  {
   "cell_type": "markdown",
   "id": "0dae93cb",
   "metadata": {},
   "source": [
    "## Series objects on real-world data ##"
   ]
  },
  {
   "cell_type": "code",
   "execution_count": 62,
   "id": "3e0d27c7",
   "metadata": {},
   "outputs": [
    {
     "name": "stdout",
     "output_type": "stream",
     "text": [
      "<class 'pandas.core.frame.DataFrame'>\n",
      "     Subscribers gained\n",
      "0                    48\n",
      "1                    57\n",
      "2                    40\n",
      "3                    43\n",
      "4                    44\n",
      "..                  ...\n",
      "360                 231\n",
      "361                 226\n",
      "362                 155\n",
      "363                 144\n",
      "364                 172\n",
      "\n",
      "[365 rows x 1 columns]\n"
     ]
    }
   ],
   "source": [
    "data_subs = pd.read_csv('subs.csv') #Default type is Dataframe\n",
    "print(type(data_subs))\n",
    "print(data_subs)\n",
    "# print(data.head)"
   ]
  },
  {
   "cell_type": "code",
   "execution_count": 64,
   "id": "1758a2e9",
   "metadata": {},
   "outputs": [
    {
     "name": "stdout",
     "output_type": "stream",
     "text": [
      "0       48\n",
      "1       57\n",
      "2       40\n",
      "3       43\n",
      "4       44\n",
      "      ... \n",
      "360    231\n",
      "361    226\n",
      "362    155\n",
      "363    144\n",
      "364    172\n",
      "Name: Subscribers gained, Length: 365, dtype: int64\n",
      "<class 'pandas.core.series.Series'>\n",
      "int64\n"
     ]
    }
   ],
   "source": [
    "# subs = pd.read_csv('subs.csv', squeeze=True) # deprecated in pandas 1.4.0\n",
    "subs = data_subs.squeeze()\n",
    "print(subs)\n",
    "print(type(subs))\n",
    "print(subs.dtype)"
   ]
  },
  {
   "cell_type": "code",
   "execution_count": null,
   "id": "f3aa4c36",
   "metadata": {},
   "outputs": [],
   "source": []
  }
 ],
 "metadata": {
  "kernelspec": {
   "display_name": "Python 3",
   "language": "python",
   "name": "python3"
  },
  "language_info": {
   "codemirror_mode": {
    "name": "ipython",
    "version": 3
   },
   "file_extension": ".py",
   "mimetype": "text/x-python",
   "name": "python",
   "nbconvert_exporter": "python",
   "pygments_lexer": "ipython3",
   "version": "3.12.6"
  }
 },
 "nbformat": 4,
 "nbformat_minor": 5
}
